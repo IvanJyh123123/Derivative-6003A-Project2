{
  "nbformat": 4,
  "nbformat_minor": 0,
  "metadata": {
    "colab": {
      "provenance": []
    },
    "kernelspec": {
      "name": "python3",
      "display_name": "Python 3"
    },
    "language_info": {
      "name": "python"
    }
  },
  "cells": [
    {
      "cell_type": "code",
      "source": [
        "import numpy as np\n",
        "\n",
        "# \\输入参数（先用假设值，拿到Bloomberg后直接替换即可）\n",
        "usd_receivable = 500000\n",
        "spot = 7.1185               # 即期汇率 (USDCNY)\n",
        "usd_rate = 0.03845           # 美元3M利率 (proxy)\n",
        "cny_rate = 0.015            # 人民币3M利率\n",
        "T = 0.25\n",
        "\n",
        "# Option market data (假设)\n",
        "K = 7.05                    # 行权价\n",
        "put_premium = 0.0265        # Put option premium (CNY per USD)\n",
        "\n",
        "# Forward Hedge\n",
        "F = spot * np.exp((cny_rate - usd_rate) * T)\n",
        "rmb_forward = usd_receivable * F\n",
        "\n",
        "# Option Hedge\n",
        "premium_cost = put_premium * usd_receivable\n",
        "\n",
        "future_spots = [6.8, 7.0, 7.1, 7.2, 7.4]\n",
        "option_results = []\n",
        "for ST in future_spots:\n",
        "    payoff = max(K - ST, 0) * usd_receivable\n",
        "    rmb_option = usd_receivable * ST + payoff - premium_cost\n",
        "    option_results.append([ST, rmb_option/1e6])\n",
        "\n",
        "\n",
        "print(f\"Forward rate USD/CNY: {F:.4f}\")\n",
        "print(f\"Forward hedge RMB (mn): {rmb_forward/1e6:.3f}\\n\")\n",
        "\n",
        "print(\"Option hedge results (mn RMB):\")\n",
        "for ST, rmb in option_results:\n",
        "    print(f\"  If ST={ST:.2f}, Final RMB={rmb:.3f}\")\n"
      ],
      "metadata": {
        "colab": {
          "base_uri": "https://localhost:8080/"
        },
        "id": "WwQ4ghHnv03p",
        "outputId": "fc966f4c-0d10-4f42-ca00-9e672d24313f"
      },
      "execution_count": 7,
      "outputs": [
        {
          "output_type": "stream",
          "name": "stdout",
          "text": [
            "Forward rate USD/CNY: 7.0769\n",
            "Forward hedge RMB (mn): 3.538\n",
            "\n",
            "Option hedge results (mn RMB):\n",
            "  If ST=6.80, Final RMB=3.512\n",
            "  If ST=7.00, Final RMB=3.512\n",
            "  If ST=7.10, Final RMB=3.537\n",
            "  If ST=7.20, Final RMB=3.587\n",
            "  If ST=7.40, Final RMB=3.687\n"
          ]
        }
      ]
    },
    {
      "cell_type": "code",
      "source": [
        "import numpy as np\n",
        "from scipy.stats import norm\n",
        "\n",
        "def fx_put_bs(S0, K, r_usd, r_cny, sigma, T):\n",
        "    \"\"\"\n",
        "    Black–Scholes 外汇版本定价公式 (USD put = CNY call)\n",
        "    \"\"\"\n",
        "    d1 = (np.log(S0 / K) + (r_cny - r_usd + 0.5 * sigma**2) * T) / (sigma * np.sqrt(T))\n",
        "    d2 = d1 - sigma * np.sqrt(T)\n",
        "    P = K * np.exp(-r_cny * T) * norm.cdf(-d2) - S0 * np.exp(-r_usd * T) * norm.cdf(-d1)\n",
        "    return P, d1, d2\n",
        "\n",
        "# 假设参数（你可以用彭博查到的数据替换）\n",
        "S0 = 7.1185     # 即期 USD/CNY\n",
        "K = 7.10        # 执行价\n",
        "r_usd = 0.03855  # 美元3M利率\n",
        "r_cny = 0.015   # 人民币3M利率\n",
        "sigma = 0.032   # 隐含波动率 ~3.2%\n",
        "T = 0.25        # 到期时间 (年)\n",
        "\n",
        "premium_bs, d1, d2 = fx_put_bs(S0, K, r_usd, r_cny, sigma, T)\n",
        "\n",
        "# Bloomberg 给的市场 premium\n",
        "premium_mkt = 0.02659  # 例如你截图的 Put Option Price\n",
        "\n",
        "print(f\"Black–Scholes theoretical price: {premium_bs:.5f} (CNY per USD)\")\n",
        "print(f\"Bloomberg market premium:        {premium_mkt:.5f} (CNY per USD)\")\n",
        "print(f\"d1={d1:.3f}, d2={d2:.3f}\")\n"
      ],
      "metadata": {
        "colab": {
          "base_uri": "https://localhost:8080/"
        },
        "id": "EMVkmSGwwpNz",
        "outputId": "5bef50c7-24d2-403b-8509-b6034e95891f"
      },
      "execution_count": 10,
      "outputs": [
        {
          "output_type": "stream",
          "name": "stdout",
          "text": [
            "Black–Scholes theoretical price: 0.05762 (CNY per USD)\n",
            "Bloomberg market premium:        0.02659 (CNY per USD)\n",
            "d1=-0.197, d2=-0.213\n"
          ]
        }
      ]
    },
    {
      "cell_type": "code",
      "source": [],
      "metadata": {
        "id": "pqYi4N0Dxbmo"
      },
      "execution_count": null,
      "outputs": []
    }
  ]
}