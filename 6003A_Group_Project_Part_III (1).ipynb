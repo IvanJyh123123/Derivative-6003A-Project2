{
  "nbformat": 4,
  "nbformat_minor": 0,
  "metadata": {
    "colab": {
      "provenance": []
    },
    "kernelspec": {
      "name": "python3",
      "display_name": "Python 3"
    },
    "language_info": {
      "name": "python"
    }
  },
  "cells": [
    {
      "cell_type": "code",
      "source": [
        "import numpy as np\n",
        "from math import log, sqrt, exp, erf"
      ],
      "metadata": {
        "id": "q7RSbCqEgewN"
      },
      "execution_count": 1,
      "outputs": []
    },
    {
      "cell_type": "code",
      "source": [
        "# Binomial tree (forward tree) for call option\n",
        "def binomial_call(S0, K, T, r, sigma, n, q=0.0):\n",
        "    dt = T/n\n",
        "    u = exp((r-q)*dt + sigma*sqrt(dt))\n",
        "    d = exp((r-q)*dt - sigma*sqrt(dt))\n",
        "    p = (exp((r-q)*dt) - d) / (u - d)   #RNPF\n",
        "    disc = exp(-r*dt)\n",
        "\n",
        "    ST = [S0 * (u**j) * (d**(n-j)) for j in range(n+1)]\n",
        "    V = [max(s-K, 0) for s in ST]\n",
        "\n",
        "    for step in range(n, 0, -1):\n",
        "        V = [disc * (p*V[i+1] + (1-p)*V[i]) for i in range(step)]\n",
        "\n",
        "    return V[0]\n"
      ],
      "metadata": {
        "id": "GofOxwpEgoRO"
      },
      "execution_count": 2,
      "outputs": []
    },
    {
      "cell_type": "code",
      "source": [
        "S0, K, r, sigma, q = 20, 21, 0.05, 0.5, 0.0\n",
        "T = 50/365\n",
        "\n",
        "for n in [1,5,10,25,50,100]:\n",
        "    print(f\"n={n}, Binomial Price={binomial_call(S0,K,T,r,sigma,n):.3f}\")"
      ],
      "metadata": {
        "colab": {
          "base_uri": "https://localhost:8080/"
        },
        "id": "t6Wc5DJMgvw7",
        "outputId": "5b859952-61ba-4d86-9c27-8ca4c3ea933b"
      },
      "execution_count": 3,
      "outputs": [
        {
          "output_type": "stream",
          "name": "stdout",
          "text": [
            "n=1, Binomial Price=1.457\n",
            "n=5, Binomial Price=1.154\n",
            "n=10, Binomial Price=1.146\n",
            "n=25, Binomial Price=1.108\n",
            "n=50, Binomial Price=1.118\n",
            "n=100, Binomial Price=1.116\n"
          ]
        }
      ]
    },
    {
      "cell_type": "code",
      "source": [
        "# Normal CDF\n",
        "def norm_cdf(x):\n",
        "    return 0.5 * (1 + erf(x/sqrt(2)))\n",
        "\n",
        "\n",
        "# Black–Scholes call\n",
        "def bs_call(S0, K, T, r, sigma, q=0.0):\n",
        "    d1 = (log(S0/K) + (r - q + 0.5*sigma**2)*T) / (sigma*sqrt(T))\n",
        "    d2 = d1 - sigma*sqrt(T)\n",
        "    C = S0*exp(-q*T)*norm_cdf(d1) - K*exp(-r*T)*norm_cdf(d2)\n",
        "    return C, d1, d2"
      ],
      "metadata": {
        "id": "uo8GZWP9g6D-"
      },
      "execution_count": 4,
      "outputs": []
    },
    {
      "cell_type": "code",
      "source": [
        "S0, K, r, sigma, q = 20, 21, 0.05, 0.5, 0.0\n",
        "T = 50/365\n",
        "\n",
        "bs_price, d1, d2 = bs_call(S0,K,T,r,sigma)\n",
        "print(f\"BS Price={bs_price:.3f}, d1={d1:.3f}, d2={d2:.3f}\")"
      ],
      "metadata": {
        "colab": {
          "base_uri": "https://localhost:8080/"
        },
        "id": "PwPLMsqahE_s",
        "outputId": "d6b36263-9309-4753-ff03-fb0bf8263a84"
      },
      "execution_count": 5,
      "outputs": [
        {
          "output_type": "stream",
          "name": "stdout",
          "text": [
            "BS Price=1.116, d1=-0.134, d2=-0.319\n"
          ]
        }
      ]
    }
  ]
}