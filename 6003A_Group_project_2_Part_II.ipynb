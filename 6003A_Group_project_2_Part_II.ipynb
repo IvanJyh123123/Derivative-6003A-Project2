{
  "nbformat": 4,
  "nbformat_minor": 0,
  "metadata": {
    "colab": {
      "provenance": []
    },
    "kernelspec": {
      "name": "python3",
      "display_name": "Python 3"
    },
    "language_info": {
      "name": "python"
    }
  },
  "cells": [
    {
      "cell_type": "code",
      "source": [
        "import numpy as np\n",
        "import pandas as pd\n",
        "\n",
        "# Parameters\n",
        "barrels = 100000\n",
        "cost = 48\n",
        "forward_price = 63\n",
        "EAR = 0.04\n",
        "T = 0.25\n",
        "\n",
        "# Convert EAR to continuously compounded rate\n",
        "r_c = np.log(1 + EAR)\n",
        "\n",
        "# Option data\n",
        "put_K, put_premium = 63.5, 4.62\n",
        "call_K, call_premium = 65, 3.18\n",
        "\n",
        "# Future value of premiums (compounded to maturity)\n",
        "put_cost = put_premium * barrels * np.exp(r_c * T)\n",
        "collar_cost = (put_premium - call_premium) * barrels * np.exp(r_c * T)\n",
        "\n",
        "# Spot prices at maturity\n",
        "spots = [50, 55, 60, 65, 70, 75]\n",
        "results = []\n",
        "\n",
        "for ST in spots:\n",
        "    # (1) Forward\n",
        "    fwd = (forward_price - cost) * barrels\n",
        "\n",
        "    # (2) Protective Put\n",
        "    pp = (ST - cost) * barrels + max(put_K - ST, 0) * barrels - put_cost\n",
        "\n",
        "    # (3) Collar (long put K=63.5, short call K=65)\n",
        "    coll = (ST - cost) * barrels \\\n",
        "           + max(put_K - ST, 0) * barrels \\\n",
        "           - max(ST - call_K, 0) * barrels \\\n",
        "           - collar_cost\n",
        "\n",
        "    # (4) Hybrid: 50% Forward + 50% Protective Put\n",
        "    hybrid = 0.5 * fwd + 0.5 * ((ST - cost) * barrels + max(put_K - ST, 0) * barrels - put_cost)\n",
        "\n",
        "    results.append([\n",
        "        ST,\n",
        "        fwd / 1e3,\n",
        "        pp / 1e3,\n",
        "        coll / 1e3,\n",
        "        hybrid / 1e3\n",
        "    ])\n",
        "\n",
        "# Create table\n",
        "df = pd.DataFrame(results, columns=[\n",
        "    \"S_T\",\n",
        "    \"Forward (k$)\",\n",
        "    \"Protective Put (k$)\",\n",
        "    \"Collar (k$)\",\n",
        "    \"Hybrid (k$)\"\n",
        "])\n",
        "\n",
        "print(df.to_string(index=False))\n"
      ],
      "metadata": {
        "id": "YYrdoZ0pycPk",
        "colab": {
          "base_uri": "https://localhost:8080/"
        },
        "outputId": "d04fee79-06f3-4a67-f53f-ebc79d7aff15"
      },
      "execution_count": 1,
      "outputs": [
        {
          "output_type": "stream",
          "name": "stdout",
          "text": [
            " S_T  Forward (k$)  Protective Put (k$)  Collar (k$)  Hybrid (k$)\n",
            "  50        1500.0          1083.447726  1404.581109  1291.723863\n",
            "  55        1500.0          1083.447726  1404.581109  1291.723863\n",
            "  60        1500.0          1083.447726  1404.581109  1291.723863\n",
            "  65        1500.0          1233.447726  1554.581109  1366.723863\n",
            "  70        1500.0          1733.447726  1554.581109  1616.723863\n",
            "  75        1500.0          2233.447726  1554.581109  1866.723863\n"
          ]
        }
      ]
    },
    {
      "cell_type": "code",
      "source": [],
      "metadata": {
        "id": "_ElRm9gyVv85"
      },
      "execution_count": null,
      "outputs": []
    }
  ]
}