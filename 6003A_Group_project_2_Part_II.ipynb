{
  "nbformat": 4,
  "nbformat_minor": 0,
  "metadata": {
    "colab": {
      "provenance": []
    },
    "kernelspec": {
      "name": "python3",
      "display_name": "Python 3"
    },
    "language_info": {
      "name": "python"
    }
  },
  "cells": [
    {
      "cell_type": "code",
      "source": [
        "import numpy as np\n",
        "import pandas as pd\n",
        "\n",
        "barrels = 100000\n",
        "cost = 48\n",
        "forward_price = 63\n",
        "EAR = 0.04\n",
        "T = 0.25\n",
        "\n",
        "# convert EAR to continuous compounding\n",
        "r_c = np.log(1 + EAR)\n",
        "\n",
        "# Options\n",
        "put_K, put_premium = 63.5, 4.62\n",
        "call_K, call_premium = 65, 3.18\n",
        "low_put_K, low_put_premium = 60, 3.89\n",
        "\n",
        "# Future value of premiums (using continuous compounding)\n",
        "put_cost = put_premium * barrels * np.exp(r_c * T)\n",
        "collar_cost = (put_premium - call_premium) * barrels * np.exp(r_c * T)\n",
        "seagull_cost = (put_premium - call_premium - low_put_premium) * barrels * np.exp(r_c * T)\n",
        "\n",
        "spots = [50, 55, 60, 65, 70, 75]\n",
        "results = []\n",
        "\n",
        "for ST in spots:\n",
        "    # Forward contract\n",
        "    fwd = (forward_price - cost) * barrels\n",
        "\n",
        "    # Protective put\n",
        "    pp = (ST - cost) * barrels + max(put_K - ST, 0) * barrels - put_cost\n",
        "\n",
        "    # Collar\n",
        "    coll = (ST - cost) * barrels \\\n",
        "           + max(put_K - ST, 0) * barrels \\\n",
        "           - max(ST - call_K, 0) * barrels \\\n",
        "           - collar_cost\n",
        "\n",
        "    # Seagull: long put (K=63.5), short call (K=65), short put (K=60)\n",
        "    sg = (ST - cost) * barrels \\\n",
        "         + max(put_K - ST, 0) * barrels \\\n",
        "         - max(ST - call_K, 0) * barrels \\\n",
        "         - max(low_put_K - ST, 0) * barrels \\\n",
        "         - seagull_cost\n",
        "\n",
        "    results.append([ST, fwd / 1e3, pp / 1e3, coll / 1e3, sg / 1e3])\n",
        "\n",
        "df = pd.DataFrame(results, columns=[\"S_T\", \"Forward (k$)\", \"Protective Put (k$)\", \"Collar (k$)\", \"Seagull (k$)\"])\n",
        "print(df.to_string(index=False))\n"
      ],
      "metadata": {
        "colab": {
          "base_uri": "https://localhost:8080/"
        },
        "id": "57Y04SMJybk9",
        "outputId": "f7477504-a250-45d3-dfa3-84bb300e8dd0"
      },
      "execution_count": 1,
      "outputs": [
        {
          "output_type": "stream",
          "name": "stdout",
          "text": [
            " S_T  Forward (k$)  Protective Put (k$)  Collar (k$)  Seagull (k$)\n",
            "  50        1500.0          1083.447726  1404.581109    797.414085\n",
            "  55        1500.0          1083.447726  1404.581109   1297.414085\n",
            "  60        1500.0          1083.447726  1404.581109   1797.414085\n",
            "  65        1500.0          1233.447726  1554.581109   1947.414085\n",
            "  70        1500.0          1733.447726  1554.581109   1947.414085\n",
            "  75        1500.0          2233.447726  1554.581109   1947.414085\n"
          ]
        }
      ]
    },
    {
      "cell_type": "code",
      "source": [],
      "metadata": {
        "id": "YYrdoZ0pycPk"
      },
      "execution_count": null,
      "outputs": []
    }
  ]
}