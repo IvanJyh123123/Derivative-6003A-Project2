{
  "nbformat": 4,
  "nbformat_minor": 0,
  "metadata": {
    "colab": {
      "provenance": []
    },
    "kernelspec": {
      "name": "python3",
      "display_name": "Python 3"
    },
    "language_info": {
      "name": "python"
    }
  },
  "cells": [
    {
      "cell_type": "code",
      "source": [
        "import numpy as np\n",
        "from math import log, sqrt, exp\n",
        "from scipy.stats import norm\n",
        "\n",
        "# Parameters\n",
        "usd_receivable = 500000\n",
        "S0 = 7.1185        # spot\n",
        "r_usd = 0.03868\n",
        "r_cny = 0.01554\n",
        "T = 0.25\n",
        "sigma = 0.031383\n",
        "K = 7.10\n",
        "\n",
        "# Forward hedge\n",
        "F = S0 * exp((r_cny - r_usd) * T)\n",
        "rmb_forward = usd_receivable * F\n",
        "\n",
        "# Option price (Garman–Kohlhagen put)\n",
        "d1 = (log(S0/K) + (r_cny - r_usd + 0.5*sigma**2)*T) / (sigma*sqrt(T))\n",
        "d2 = d1 - sigma*sqrt(T)\n",
        "put = K*exp(-r_cny*T)*norm.cdf(-d2) - S0*exp(-r_usd*T)*norm.cdf(-d1)\n",
        "premium = put * usd_receivable\n",
        "\n",
        "# Option hedge scenarios\n",
        "spots = [6.8, 7.0, 7.1, 7.2, 7.4]\n",
        "results = []\n",
        "for ST in spots:\n",
        "    payoff = max(K - ST, 0) * usd_receivable\n",
        "    rmb = usd_receivable * ST + payoff - premium\n",
        "    results.append([ST, rmb/1e6])\n",
        "\n",
        "print(f\"Forward rate USD/CNY: {F:.4f}\")\n",
        "print(f\"Forward hedge RMB (mn): {rmb_forward/1e6:.3f}\\n\")\n",
        "\n",
        "print(\"Option hedge results (mn RMB):\")\n",
        "for ST, rmb in results:\n",
        "    print(f\"If ST={ST:.2f}, Final RMB={rmb:.3f}\")\n"
      ],
      "metadata": {
        "colab": {
          "base_uri": "https://localhost:8080/"
        },
        "id": "iN0ZiUxrrlTh",
        "outputId": "1fe618b1-8e4b-4229-a5a0-030ef794b566"
      },
      "execution_count": 1,
      "outputs": [
        {
          "output_type": "stream",
          "name": "stdout",
          "text": [
            "Forward rate USD/CNY: 7.0774\n",
            "Forward hedge RMB (mn): 3.539\n",
            "\n",
            "Option hedge results (mn RMB):\n",
            "If ST=6.80, Final RMB=3.522\n",
            "If ST=7.00, Final RMB=3.522\n",
            "If ST=7.10, Final RMB=3.522\n",
            "If ST=7.20, Final RMB=3.572\n",
            "If ST=7.40, Final RMB=3.672\n"
          ]
        }
      ]
    }
  ]
}